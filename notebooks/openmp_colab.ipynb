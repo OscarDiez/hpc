{
 "cells": [
  {
   "cell_type": "markdown",
   "metadata": {},
   "source": [
    "# Testing OpenMP in C using Google Colab\n",
    "\n",
    "This notebook will compile and run a simple C program using OpenMP to demonstrate parallel processing."
   ]
  },
  {
   "cell_type": "code",
   "execution_count": null,
   "metadata": {},
   "outputs": [],
   "source": [
    "# Step 1: Install the GCC compiler with OpenMP support\n",
    "!apt-get update && apt-get install -y gcc\n",
    "\n",
    "# Step 2: Write the C program to a file\n",
    "c_program = '''\n",
    "#include <omp.h>\n",
    "#include <stdio.h>\n",
    "\n",
    "int main(int argc, char *argv[]) {\n",
    "\n",
    " int nthreads, tid;\n",
    "\n",
    " /* Fork a team of threads with each thread having a private tid variable */\n",
    " #pragma omp parallel private(tid)\n",
    "   {\n",
    "\n",
    "   /* Obtain and print thread id */\n",
    "   tid = omp_get_thread_num();\n",
    "   printf(\"Hello World! from thread = %d\\n\", tid);\n",
    "\n",
    "   /* Only master thread does this */\n",
    "   if (tid == 0) \n",
    "     {\n",
    "     nthreads = omp_get_num_threads();\n",
    "     printf(\"Number of threads = %d\\n\", nthreads);\n",
    "     }\n",
    "\n",
    "   }  /* All threads join master thread and terminate */\n",
    "\n",
    " }\n",
    "'''\n",
    "\n",
    "with open(\"omp_hello.c\", \"w\") as file:\n",
    "    file.write(c_program)\n",
    "\n",
    "print(\"C program written to omp_hello.c\")"
   ]
  },
  {
   "cell_type": "code",
   "execution_count": null,
   "metadata": {},
   "outputs": [],
   "source": [
    "# Step 3: Compile the C program using gcc with OpenMP support\n",
    "!gcc -o omp_hello -fopenmp omp_hello.c\n",
    "\n",
    "# Step 4: Run the compiled program\n",
    "!./omp_hello"
   ]
  }
 ],
 "metadata": {
  "colab": {
   "collapsed_sections": [],
   "name": "OpenMP_C_Test.ipynb",
   "provenance": []
  },
  "kernelspec": {
   "display_name": "Python 3",
   "language": "python",
   "name": "python3"
  },
  "language_info": {
   "codemirror_mode": {
    "name": "ipython",
    "version": 3
   },
   "file_extension": ".py",
   "mimetype": "text/x-python",
   "name": "python",
   "nbconvert_exporter": "python",
   "version": "3.7.12"
  }
 },
 "nbformat": 4,
 "nbformat_minor": 0
}
