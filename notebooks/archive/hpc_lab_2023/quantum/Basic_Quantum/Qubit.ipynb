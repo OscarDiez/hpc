{
 "cells": [
  {
   "cell_type": "markdown",
   "metadata": {},
   "source": [
    "# The Qubit\n",
    "\n",
    "A qubit is represented by $ |\\psi\\rangle = \\begin{bmatrix}\\alpha \\\\ \\beta\\end{bmatrix}$, where $\\alpha, \\beta \\in \\mathbb{C}$ and $|\\alpha|^{2} + |\\beta|^{2} = 1$.\n",
    "\n",
    "In Python, the vector is a list of complex numbers.\n",
    "\n",
    "We may extract the state of a qubit after running it using the **statevector_simulator** in _Qiskit_"
   ]
  },
  {
   "cell_type": "code",
   "execution_count": 1,
   "metadata": {},
   "outputs": [],
   "source": [
    "%matplotlib inline\n",
    "from qiskit import *\n",
    "from qiskit.visualization import plot_bloch_multivector"
   ]
  },
  {
   "cell_type": "code",
   "execution_count": 2,
   "metadata": {},
   "outputs": [],
   "source": [
    "# The following code is for nicer display of the qubits\n",
    "from IPython.display import display, Markdown\n",
    "\n",
    "def format_float(x):\n",
    "    if x % 1 == 0:\n",
    "        return int(x)\n",
    "    else:\n",
    "        return x\n",
    "\n",
    "def format_imaginary(z):\n",
    "    if abs(z.imag) < 1e-15:\n",
    "        return \"{}\".format(format_float(z.real))\n",
    "    elif abs(z.real) < 1e-15:\n",
    "        return \"{}i\".format(format_float(z.imag))\n",
    "    if z.imag > 0:\n",
    "        return \"{} + {}i\".format(z.real, abs(z.imag))\n",
    "    else:\n",
    "        return \"{} - {}i\".format(z.real, abs(z.imag))\n",
    "\n",
    "def display_qubit(state_vector):\n",
    "    alpha = state_vector[0]\n",
    "    beta = state_vector[1]\n",
    "    cof_0 = format_imaginary(alpha)\n",
    "    cof_1 = format_imaginary(beta)\n",
    "    ans = r\"$|\\psi\\rangle = \\begin{{bmatrix}} {} \\\\ {}\\end{{bmatrix}}$\".format(cof_0, cof_1)\n",
    "    return ans"
   ]
  },
  {
   "cell_type": "markdown",
   "metadata": {},
   "source": [
    "The Qiskit simulators are available in the _Aer_ module. For this notebook, we will explore mostly the **statevector_simulator** because we are interested in the state of the qubit."
   ]
  },
  {
   "cell_type": "code",
   "execution_count": 7,
   "metadata": {},
   "outputs": [],
   "source": [
    "simulator = Aer.get_backend(\"statevector_simulator\")"
   ]
  },
  {
   "cell_type": "markdown",
   "metadata": {},
   "source": [
    "By default, all qubits in the circuit start as $|0\\rangle$. We can verify it by using an empty circuit. In the snippet below, we execute an empty circuit and verify that it is $\\begin{bmatrix}1 \\\\ 0\\end{bmatrix}$."
   ]
  },
  {
   "cell_type": "code",
   "execution_count": 17,
   "metadata": {},
   "outputs": [
    {
     "data": {
      "image/png": "[encoded data removed]",
      "text/plain": [
       "<Figure size 103.426x84.28 with 1 Axes>"
      ]
     },
     "execution_count": 17,
     "metadata": {},
     "output_type": "execute_result"
    }
   ],
   "source": [
    "circuit = QuantumCircuit(1)\n",
    "circuit.draw(output=\"mpl\")"
   ]
  },
  {
   "cell_type": "code",
   "execution_count": 18,
   "metadata": {},
   "outputs": [
    {
     "name": "stdout",
     "output_type": "stream",
     "text": [
      "State vector: Statevector([1.+0.j, 0.+0.j],\n",
      "            dims=(2,))\n",
      "State vector is [1, 0]? False\n"
     ]
    }
   ],
   "source": [
    "job = execute(circuit, backend=simulator)\n",
    "result = job.result()\n",
    "state_vector = result.get_statevector()\n",
    "print(\n",
    "    \"State vector: {}\\nState vector is [1, 0]? {}\".format(\n",
    "        state_vector, (state_vector == [1, 0])\n",
    "    )\n",
    ")"
   ]
  },
  {
   "cell_type": "markdown",
   "metadata": {},
   "source": [
    "To modify the qubit, we need to apply gates. The $X$ gate is the gate that allows us to get $|1\\rangle$, as we can see in the snippet that follows."
   ]
  },
  {
   "cell_type": "code",
   "execution_count": 54,
   "metadata": {},
   "outputs": [
    {
     "data": {
      "image/png": "[encoded data removed]",
      "text/plain": [
       "<Figure size 133.526x84.28 with 1 Axes>"
      ]
     },
     "execution_count": 54,
     "metadata": {},
     "output_type": "execute_result"
    }
   ],
   "source": [
    "circuit = QuantumCircuit(1)\n",
    "circuit.x(0)\n",
    "circuit.draw(output=\"mpl\")"
   ]
  },
  {
   "cell_type": "code",
   "execution_count": 55,
   "metadata": {},
   "outputs": [
    {
     "data": {
      "text/markdown": [
       "$|\\psi\\rangle = \\begin{bmatrix} 0 \\\\ 1\\end{bmatrix}$"
      ],
      "text/plain": [
       "<IPython.core.display.Markdown object>"
      ]
     },
     "metadata": {},
     "output_type": "display_data"
    }
   ],
   "source": [
    "state_vector = execute(circuit, backend=simulator).result().get_statevector()\n",
    "display(\n",
    "    Markdown(\n",
    "        display_qubit(state_vector)\n",
    "    )\n",
    ")"
   ]
  },
  {
   "cell_type": "markdown",
   "metadata": {},
   "source": [
    "We may apply many gates to a circuit. In the circuit below, we go from $|0\\rangle$ to $|1\\rangle$ and then $|-\\rangle$. Notice that $H$ is frequently used to generate supperpositions."
   ]
  },
  {
   "cell_type": "code",
   "execution_count": 56,
   "metadata": {},
   "outputs": [
    {
     "data": {
      "image/png": "[encoded data removed]",
      "text/plain": [
       "<Figure size 193.726x84.28 with 1 Axes>"
      ]
     },
     "execution_count": 56,
     "metadata": {},
     "output_type": "execute_result"
    }
   ],
   "source": [
    "circuit = QuantumCircuit(1)\n",
    "circuit.x(0)\n",
    "circuit.h(0)\n",
    "circuit.draw(output=\"mpl\")"
   ]
  },
  {
   "cell_type": "code",
   "execution_count": 57,
   "metadata": {},
   "outputs": [
    {
     "data": {
      "text/markdown": [
       "$|\\psi\\rangle = \\begin{bmatrix} 0.7071067811865476 \\\\ -0.7071067811865475\\end{bmatrix}$"
      ],
      "text/plain": [
       "<IPython.core.display.Markdown object>"
      ]
     },
     "metadata": {},
     "output_type": "display_data"
    }
   ],
   "source": [
    "state_vector = execute(circuit, backend=simulator).result().get_statevector()\n",
    "display(\n",
    "    Markdown(\n",
    "        display_qubit(state_vector)\n",
    "    )\n",
    ")"
   ]
  },
  {
   "cell_type": "markdown",
   "metadata": {},
   "source": [
    "On a relevant note, different gates may lead to the same qubit!"
   ]
  },
  {
   "cell_type": "code",
   "execution_count": 58,
   "metadata": {},
   "outputs": [
    {
     "data": {
      "image/png": "[encoded data removed]",
      "text/plain": [
       "<Figure size 193.726x84.28 with 1 Axes>"
      ]
     },
     "execution_count": 58,
     "metadata": {},
     "output_type": "execute_result"
    }
   ],
   "source": [
    "circuit = QuantumCircuit(1)\n",
    "circuit.h(0)\n",
    "circuit.z(0)\n",
    "circuit.draw(output=\"mpl\")"
   ]
  },
  {
   "cell_type": "code",
   "execution_count": 59,
   "metadata": {},
   "outputs": [
    {
     "data": {
      "text/markdown": [
       "$|\\psi\\rangle = \\begin{bmatrix} 0.7071067811865476 \\\\ -0.7071067811865475\\end{bmatrix}$"
      ],
      "text/plain": [
       "<IPython.core.display.Markdown object>"
      ]
     },
     "metadata": {},
     "output_type": "display_data"
    }
   ],
   "source": [
    "state_vector = execute(circuit, backend=simulator).result().get_statevector()\n",
    "display(\n",
    "    Markdown(\n",
    "        display_qubit(state_vector)\n",
    "    )\n",
    ")"
   ]
  },
  {
   "cell_type": "markdown",
   "metadata": {},
   "source": [
    "And gate order matters! Matrix multiplication is not commutative in general. The qubit will be different if the same gates are applied in a different order"
   ]
  },
  {
   "cell_type": "code",
   "execution_count": 60,
   "metadata": {},
   "outputs": [
    {
     "data": {
      "image/png": "[encoded data removed]",
      "text/plain": [
       "<Figure size 193.726x84.28 with 1 Axes>"
      ]
     },
     "execution_count": 60,
     "metadata": {},
     "output_type": "execute_result"
    }
   ],
   "source": [
    "circuit = QuantumCircuit(1)\n",
    "circuit.z(0)\n",
    "circuit.h(0)\n",
    "circuit.draw(output=\"mpl\")"
   ]
  },
  {
   "cell_type": "code",
   "execution_count": 61,
   "metadata": {},
   "outputs": [
    {
     "data": {
      "text/markdown": [
       "$|\\psi\\rangle = \\begin{bmatrix} 0.7071067811865476 \\\\ 0.7071067811865475\\end{bmatrix}$"
      ],
      "text/plain": [
       "<IPython.core.display.Markdown object>"
      ]
     },
     "metadata": {},
     "output_type": "display_data"
    }
   ],
   "source": [
    "state_vector = execute(circuit, backend=simulator).result().get_statevector()\n",
    "display(\n",
    "    Markdown(\n",
    "        display_qubit(state_vector)\n",
    "    )\n",
    ")"
   ]
  },
  {
   "cell_type": "markdown",
   "metadata": {},
   "source": [
    "It is important to recall that $\\alpha, \\beta \\in \\mathbb{C}$. The following circuit originates a state where the coefficient are not in $\\mathbb{R}$."
   ]
  },
  {
   "cell_type": "code",
   "execution_count": 62,
   "metadata": {},
   "outputs": [
    {
     "data": {
      "image/png": "[encoded data removed]",
      "text/plain": [
       "<Figure size 253.926x84.28 with 1 Axes>"
      ]
     },
     "execution_count": 62,
     "metadata": {},
     "output_type": "execute_result"
    }
   ],
   "source": [
    "circuit = QuantumCircuit(1)\n",
    "circuit.h(0)\n",
    "circuit.s(0)\n",
    "circuit.y(0)\n",
    "circuit.draw(output=\"mpl\")"
   ]
  },
  {
   "cell_type": "code",
   "execution_count": 63,
   "metadata": {},
   "outputs": [
    {
     "data": {
      "text/markdown": [
       "$|\\psi\\rangle = \\begin{bmatrix} 0.7071067811865476 \\\\ 0.7071067811865475i\\end{bmatrix}$"
      ],
      "text/plain": [
       "<IPython.core.display.Markdown object>"
      ]
     },
     "metadata": {},
     "output_type": "display_data"
    }
   ],
   "source": [
    "state_vector = execute(circuit, backend=simulator).result().get_statevector()\n",
    "display(\n",
    "    Markdown(\n",
    "        display_qubit(state_vector)\n",
    "    )\n",
    ")"
   ]
  },
  {
   "cell_type": "markdown",
   "metadata": {},
   "source": [
    "Also, last note: because the coefficients are complex numbers, it is important to write $|\\alpha|^{2} + |\\beta|^{2} = 1$ and not $\\alpha^{2} + \\beta^{2} = 1$. $\\alpha^2$ might not even be a real number!"
   ]
  },
  {
   "cell_type": "code",
   "execution_count": 64,
   "metadata": {},
   "outputs": [
    {
     "name": "stdout",
     "output_type": "stream",
     "text": [
      "Incorrect: alpha^2 + beta^2 = (2.220446049250313e-16+6.123233995736765e-17j)\n",
      "Correct: |alpha|^2 + |beta|^2 = 1.0\n"
     ]
    }
   ],
   "source": [
    "print(\n",
    "    \"Incorrect: alpha^2 + beta^2 = {}\".format(\n",
    "        state_vector[0]**2 + state_vector[1]**2\n",
    "    )\n",
    ")\n",
    "print(\n",
    "    \"Correct: |alpha|^2 + |beta|^2 = {}\".format(\n",
    "        abs(state_vector[0]**2) + abs(state_vector[1]**2)\n",
    "    )\n",
    ")"
   ]
  },
  {
   "cell_type": "markdown",
   "metadata": {},
   "source": [
    "A cool fact about qubits is: they can be visualized as 3d vectors in a unitary sphere!\n",
    "We won't go deep into how the representation is made (it has to do with $X$, $Y$, and $Z$ basis). But you can see it using **plot_bloch_multivector** that is in _qiskit.visualization_"
   ]
  },
  {
   "cell_type": "code",
   "execution_count": 18,
   "metadata": {},
   "outputs": [
    {
     "data": {
      "image/png": "[encoded data removed]",
      "text/plain": [
       "<Figure size 288x288 with 1 Axes>"
      ]
     },
     "execution_count": 18,
     "metadata": {},
     "output_type": "execute_result"
    }
   ],
   "source": [
    "plot_bloch_multivector(state_vector)"
   ]
  },
  {
   "cell_type": "code",
   "execution_count": null,
   "metadata": {},
   "outputs": [],
   "source": []
  },
  {
   "cell_type": "code",
   "execution_count": null,
   "metadata": {},
   "outputs": [],
   "source": []
  },
  {
   "cell_type": "code",
   "execution_count": null,
   "metadata": {},
   "outputs": [],
   "source": []
  }
 ],
 "metadata": {
  "kernelspec": {
   "display_name": "Python 3",
   "language": "python",
   "name": "python3"
  },
  "language_info": {
   "codemirror_mode": {
    "name": "ipython",
    "version": 3
   },
   "file_extension": ".py",
   "mimetype": "text/x-python",
   "name": "python",
   "nbconvert_exporter": "python",
   "pygments_lexer": "ipython3",
   "version": "3.8.5"
  }
 },
 "nbformat": 4,
 "nbformat_minor": 4
}
