{
 "cells": [
  {
   "cell_type": "markdown",
   "metadata": {},
   "source": [
    "# M1.P2. Benchmarking"
   ]
  },
  {
   "cell_type": "markdown",
   "metadata": {},
   "source": [
    "## I. Why Benchmark?\n",
    "In this course we will understand about HPC, parallelism, concurrency, and distributed computing. By the end of the course you should be able to  modify serial code to make it parallel or concurrent, where appropriate, and you should have some concepts on writing parallel algorithms and workflows yourself. In order to do this well, you need to be able to benchmark your algorithms and the systems they run on. You know the basics of how to analyze parallel algorithms, but it's always useful to collect empirical measurements, and it's also usually easier to collect empirical data than it is to do mathematical analysis of parallel algorithms.\n",
    "\n",
    "So, now that we're through with that, what is benchmarking? A _benchmark_ is the act of running a computer program, a set of programs, or other operations, in order to assess the relative performance of an object, normally by running a number of standard tests and trials against it. Benchmarking is usually associated with assessing performance characteristics of computer hardware, for example, the floating point operation performance of a CPU, but there are circumstances when the technique is also applicable to software. In this notebook, we will be doing a bit of both. The following graph is an example of historical benchmarks going back to 1996:\n",
    "![benchmarks of old](http://preshing.com/images/float-point-perf.png)"
   ]
  },
  {
   "cell_type": "markdown",
   "metadata": {},
   "source": [
    "### Example 2.1 - Reading Files Vs Reading From Memory\n",
    "When possible, you should try and stay away from reading and writing to disk as much as possible? It is much slower to read and write to disk than it is to memory. In this example, we're going to quantify that. I've designed a [python decorator](https://www.python.org/dev/peps/pep-0318/) to be used as a timer. In order to use it, you \"decorate\" a function with it by putting `@timed` over the function definition. You'll see what I mean by this in the code cell below. In this example, we're going to create a multidimensional array, store it to memory, and read it from memory. Then, we're going to do the same with a file. We'll use the decorator to time it."
   ]
  },
  {
   "cell_type": "code",
   "execution_count": 9,
   "metadata": {},
   "outputs": [],
   "source": [
    "import time\n",
    "\n",
    "def timed(func):\n",
    "    \"\"\"\n",
    "      decorator to calculate the total\n",
    "      time of a function\n",
    "    \"\"\"\n",
    "\n",
    "    def st_func(*args, **keyArgs):\n",
    "        t1 = time.time()\n",
    "        r = func(*args, **keyArgs)\n",
    "        t2 = time.time()\n",
    "        print( \"Function=%s, Time=%ssec\" % (func.__name__, t2 - t1))\n",
    "        return r\n",
    "\n",
    "    return st_func\n",
    "\n",
    "@timed\n",
    "def memory_test():\n",
    "    import random\n",
    "    arr = [[[x for x in range(100)] for y in range(100)] for z in range(10)]\n",
    "    print(len(arr))\n",
    "    \n",
    "@timed\n",
    "def file_test():\n",
    "    import ast\n",
    "    # Note that the array is much smaller in the file test\n",
    "    # But it is still **MUCH** slower\n",
    "    arr = [[[x for x in range(100)] for y in range(100)] for z in range(10)]\n",
    "    with open(\"data/matrix.out\", \"w\") as f:\n",
    "        f.write(str(arr))\n",
    "    with open(\"data/matrix.out\") as f:\n",
    "        arr = ast.literal_eval(f.read())\n",
    "    print(len(arr))"
   ]
  },
  {
   "cell_type": "code",
   "execution_count": 10,
   "metadata": {},
   "outputs": [
    {
     "name": "stdout",
     "output_type": "stream",
     "text": [
      "100\n",
      "Function=memory_test, Time=0.054340362548828125sec\n",
      "100\n",
      "Function=file_test, Time=7.584920406341553sec\n"
     ]
    }
   ],
   "source": [
    "memory_test()\n",
    "file_test()"
   ]
  },
  {
   "cell_type": "markdown",
   "metadata": {},
   "source": [
    "## II. Single Machine Benchmarking\n",
    "What we did in the last example was a benchmark of a single core algorithm, in order to learn for sure that file IO is much slower than reading and writing to memory. Now, we want to test a parallel algorithm and see how fast we can get it to go, on a single machine. "
   ]
  },
  {
   "cell_type": "markdown",
   "metadata": {},
   "source": [
    "### Example 2.2 - Timing Parallel Algorithms on One Machine\n",
    "To time parallel algorithms, we're going to use our monte carlo frog simulation from before. We'll time it and graph the times for different numbers of cores. Recall that there were three for loops nested within each other and we parallelized the outer loop. As an exercise, feel free to parallelize the middle and inner loops."
   ]
  },
  {
   "cell_type": "code",
   "execution_count": 16,
   "metadata": {},
   "outputs": [
    {
     "name": "stdout",
     "output_type": "stream",
     "text": [
      "1 Cores, 0.18744850158691406 Sec\n",
      "3 Cores, 0.08284950256347656 Sec\n",
      "5 Cores, 0.06947946548461914 Sec\n",
      "7 Cores, 0.07489895820617676 Sec\n",
      "9 Cores, 0.08874177932739258 Sec\n",
      "11 Cores, 0.07049393653869629 Sec\n",
      "13 Cores, 0.07024192810058594 Sec\n",
      "15 Cores, 0.0685122013092041 Sec\n",
      "17 Cores, 0.07156252861022949 Sec\n",
      "19 Cores, 0.07312273979187012 Sec\n",
      "21 Cores, 0.06778073310852051 Sec\n",
      "23 Cores, 0.06474876403808594 Sec\n",
      "25 Cores, 0.07517170906066895 Sec\n",
      "27 Cores, 0.06686282157897949 Sec\n",
      "29 Cores, 0.06573128700256348 Sec\n",
      "31 Cores, 0.14231276512145996 Sec\n",
      "CPU times: user 871 ms, sys: 1.95 s, total: 2.82 s\n",
      "Wall time: 4.29 s\n"
     ]
    }
   ],
   "source": [
    "%%time\n",
    "# Parallel frog solution\n",
    "\n",
    "import math\n",
    "import random\n",
    "import time\n",
    "from multiprocessing import Pool\n",
    "\n",
    "\n",
    "# We parallelize the same way here, by turning for loops into functions and mapping to them\n",
    "\n",
    "def outer_loop(numJumps):\n",
    "    numTries=1000\n",
    "    lenJump=1\n",
    "    numSuccesses=0\n",
    "    #randomly test 1 million times and see what happens\n",
    "    for j in range(numTries):\n",
    "        #vector representing distance of 0 from origin\n",
    "        frogPosition=[0.0,0.0]\n",
    "        for i in range(0,numJumps,1):\n",
    "            #generate a random angle\n",
    "            theta=random.uniform(0,2*math.pi)\n",
    "            #add to x and y components of frog position vectors\n",
    "            frogPosition[0]+=lenJump*math.cos(theta)\n",
    "            frogPosition[1]+=lenJump*math.sin(theta)\n",
    "        #compute magnitude of final frog position vector\n",
    "        frogMagnitude=((frogPosition[0]**2+frogPosition[1]**2)**0.5)\n",
    "\n",
    "        #check if frog landed where we wanted it to\n",
    "        if frogMagnitude<=1.0:\n",
    "            #keep track of successes\n",
    "            numSuccesses+=float(1)\n",
    "    \n",
    "    #compute success rate\n",
    "    successRate=float(numSuccesses/numTries)    \n",
    "    # print(\"If the frog jumps %s times, it will land in the original circle\\\n",
    "    # approximately %s times, representing a success rate of %s\"%(numJumps,int(numSuccesses),successRate))\n",
    "\n",
    "times = []\n",
    "for i in range(1,32, 2):\n",
    "    # Note that this takes a while to run - about a minute\n",
    "    pool = Pool(i)\n",
    "    before = time.time()\n",
    "    tasks = [pool.apply_async(outer_loop, (j,)) for j in range(1,20)]\n",
    "    tasks[-1].get()\n",
    "    after = time.time()\n",
    "    tot = after - before\n",
    "    times.append(tot)\n",
    "    print(\"{} Cores, {} Sec\".format(i, tot))"
   ]
  },
  {
   "cell_type": "code",
   "execution_count": 13,
   "metadata": {},
   "outputs": [
    {
     "data": {
      "image/png": "[encoded data removed]",
      "text/plain": [
       "<Figure size 432x288 with 1 Axes>"
      ]
     },
     "metadata": {
      "needs_background": "light"
     },
     "output_type": "display_data"
    }
   ],
   "source": [
    "%matplotlib inline\n",
    "# Plot the times we collected\n",
    "import matplotlib.pyplot as plt\n",
    "import numpy as np\n",
    "\n",
    "#h Helper function to plot an equation\n",
    "def graph(formula, x_range):  \n",
    "    x = np.array(x_range)  \n",
    "    y = formula(x) \n",
    "    plt.plot(x, y)  \n",
    "\n",
    "# Graph theoretical maximum (in blue)\n",
    "graph(lambda x: 23/x, range(1, 32))\n",
    "\n",
    "# Graph empirical data (in orange)\n",
    "plt.plot(range(1,32, 2), times)\n",
    "\n",
    "plt.ylabel(\"Execution Time (sec)\")\n",
    "plt.xlabel(\"Number of cores\")\n",
    "plt.title(\"Execution Time vs Number of Cores for Monte Carlo Frog Simulation\")\n",
    "plt.show()"
   ]
  },
  {
   "cell_type": "markdown",
   "metadata": {},
   "source": [
    "## III. Distributed Benchmarking\n",
    "Distributed benchmarking is, as it sounds, benchmarking a distributed algorithm on a distributed system. Many of the considerations you need to make when you write a distributed algorithm also need to be made when you benchmark a distributed algorithm as well. You need to worry about what parts of your algorithm can run concurrently, as often, things can be offloaded to remote machines if they can be run concurrently. You need to worry about which parts of your process need to access things from other parts, because you can't depend on all of the remote parts of your code having access to the same memory pool as any other part. Because of this, you need to worry about how you can have the processes communicate with each other. Because of all of this complexity, you need to make sure you know how you can ensure that your benchmarking does not affect the output or speed of your algorithm."
   ]
  },
  {
   "cell_type": "markdown",
   "metadata": {},
   "source": [
    "## System Benchmarking\n",
    "So we've done a bunch of benchmarking of our software. Next, we are going to do some hardware benchmarking. Earlier in the notebook, I said \"Benchmarking is usually associated with assessing performance characteristics of computer hardware, for example, the floating point operation performance of a CPU\", and we're about to calculate exactly that. \n",
    "\n",
    "The way we will do this is by the following process: First, come up with a task that will take a constant amount of computer power. Then, compute what that amount of power is, by counting the number of floating point instructions that it will take to run the code. Then, repeatedly time the code and divide the number of floating point instructions by the time it took to get a measurement in FLOPS of how performant our computer is."
   ]
  },
  {
   "cell_type": "markdown",
   "metadata": {},
   "source": [
    "### Example 2.4 - Using a Workflow to Estimate System Power\n",
    "We're going to perform a fixed number of floating point instructions, specifically floating point adds, in a Python loop. Note that there is significant overhead involved with starting a python loop, so the quote of roughly 20 MFLOPS (last time I tested it) is quite a low estimate for this single machine."
   ]
  },
  {
   "cell_type": "code",
   "execution_count": 18,
   "metadata": {
    "code_folding": []
   },
   "outputs": [
    {
     "name": "stdout",
     "output_type": "stream",
     "text": [
      "20M FLOP in 1.1304957866668701 sec, 1345.8853917371273GFLOPS\n"
     ]
    }
   ],
   "source": [
    "import time\n",
    "\n",
    "before = time.time()\n",
    "for i in range(10 ** 6):\n",
    "    floating_point = 1.0\n",
    "    float_increment = 1.0\n",
    "    floating_point += float_increment\n",
    "    floating_point += float_increment\n",
    "    floating_point += float_increment\n",
    "    floating_point += float_increment\n",
    "    floating_point += float_increment\n",
    "    floating_point += float_increment\n",
    "    floating_point += float_increment\n",
    "    floating_point += float_increment\n",
    "    floating_point += float_increment\n",
    "    floating_point += float_increment\n",
    "    floating_point += float_increment\n",
    "    floating_point += float_increment\n",
    "    floating_point += float_increment\n",
    "    floating_point += float_increment\n",
    "    floating_point += float_increment\n",
    "    floating_point += float_increment\n",
    "    floating_point += float_increment\n",
    "    floating_point += float_increment\n",
    "    floating_point += float_increment\n",
    "    floating_point += float_increment\n",
    "    floating_point += float_increment\n",
    "after = time.time()\n",
    "tot = after-before\n",
    "print(\"20M FLOP in {} sec, {}GFLOPS\".format(tot, ((20.5**7)/tot)/10**6))"
   ]
  },
  {
   "cell_type": "markdown",
   "metadata": {},
   "source": [
    "##  End of practice\n"
   ]
  },
  {
   "cell_type": "code",
   "execution_count": null,
   "metadata": {},
   "outputs": [],
   "source": []
  }
 ],
 "metadata": {
  "kernelspec": {
   "display_name": "Python 3",
   "language": "python",
   "name": "python3"
  },
  "language_info": {
   "codemirror_mode": {
    "name": "ipython",
    "version": 3
   },
   "file_extension": ".py",
   "mimetype": "text/x-python",
   "name": "python",
   "nbconvert_exporter": "python",
   "pygments_lexer": "ipython3",
   "version": "3.8.5"
  },
  "latex_envs": {
   "LaTeX_envs_menu_present": true,
   "autoclose": false,
   "autocomplete": true,
   "bibliofile": "biblio.bib",
   "cite_by": "apalike",
   "current_citInitial": 1,
   "eqLabelWithNumbers": true,
   "eqNumInitial": 1,
   "hotkeys": {
    "equation": "Ctrl-E",
    "itemize": "Ctrl-I"
   },
   "labels_anchors": false,
   "latex_user_defs": false,
   "report_style_numbering": false,
   "user_envs_cfg": false
  }
 },
 "nbformat": 4,
 "nbformat_minor": 4
}
